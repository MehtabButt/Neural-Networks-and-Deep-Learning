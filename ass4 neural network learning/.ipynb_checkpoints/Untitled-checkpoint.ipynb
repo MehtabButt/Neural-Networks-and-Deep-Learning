{
 "cells": [
  {
   "cell_type": "markdown",
   "id": "8189239a",
   "metadata": {},
   "source": [
    "# Assignment 4: Neural Network Learning"
   ]
  },
  {
   "cell_type": "code",
   "execution_count": 1,
   "id": "ed587fea",
   "metadata": {},
   "outputs": [
    {
     "name": "stdout",
     "output_type": "stream",
     "text": [
      "Collecting mat4py\n",
      "  Downloading mat4py-0.5.0-py2.py3-none-any.whl (13 kB)\n",
      "Installing collected packages: mat4py\n",
      "Successfully installed mat4py-0.5.0\n"
     ]
    }
   ],
   "source": [
    "!pip install mat4py"
   ]
  },
  {
   "cell_type": "code",
   "execution_count": 23,
   "id": "288dfdeb",
   "metadata": {},
   "outputs": [
    {
     "name": "stdout",
     "output_type": "stream",
     "text": [
      "Collecting opencv-python\n",
      "  Downloading opencv_python-4.5.3.56-cp38-cp38-win_amd64.whl (34.9 MB)\n",
      "Requirement already satisfied: numpy>=1.17.3 in c:\\users\\bcsf1\\anaconda3\\lib\\site-packages (from opencv-python) (1.20.1)\n",
      "Installing collected packages: opencv-python\n",
      "Successfully installed opencv-python-4.5.3.56\n"
     ]
    }
   ],
   "source": [
    "!pip install opencv-python"
   ]
  },
  {
   "cell_type": "markdown",
   "id": "838684d8",
   "metadata": {},
   "source": [
    "## Loading and Visualizing Data "
   ]
  },
  {
   "cell_type": "code",
   "execution_count": 1,
   "id": "41718bb1",
   "metadata": {},
   "outputs": [],
   "source": [
    "#imports\n",
    "from mat4py import loadmat\n",
    "import numpy as np\n",
    "import math\n",
    "import cv2\n",
    "import pdb"
   ]
  },
  {
   "cell_type": "code",
   "execution_count": 2,
   "id": "e017ec3b",
   "metadata": {},
   "outputs": [],
   "source": [
    "#initializations\n",
    "input_layer_size = 400\n",
    "hidden_layer_size = 25\n",
    "num_labels = 10"
   ]
  },
  {
   "cell_type": "code",
   "execution_count": 3,
   "id": "912f5f54",
   "metadata": {},
   "outputs": [
    {
     "name": "stdout",
     "output_type": "stream",
     "text": [
      "shape of features data (5000, 400)\n",
      "shape of labels data (5000, 1)\n"
     ]
    }
   ],
   "source": [
    "#loadig data\n",
    "data = loadmat('ex4data1.mat')\n",
    "X = np.array(data['X'])\n",
    "y = np.array(data['y'])\n",
    "\n",
    "print('shape of features data', X.shape)\n",
    "print('shape of labels data', y.shape)\n",
    "\n",
    "#selecting 100 random examples \n",
    "rand_indices = np.random.choice(X.shape[0], size=100, replace=False)\n",
    "rand_examples = X[rand_indices,:]\n",
    "\n",
    "def displayData(X):\n",
    "    target_img_size = (20,20)\n",
    "    rows = math.floor(math.sqrt(X.shape[0]))\n",
    "    cols = math.ceil(X.shape[0]/rows)\n",
    "    \n",
    "    for i in range(rows):\n",
    "        j = cols*i\n",
    "        temp = np.reshape(X[j:j+1], target_img_size, order='F')\n",
    "        for j in range(cols):\n",
    "            j += cols*i\n",
    "            temp = np.concatenate((temp, np.reshape(X[j:j+1], target_img_size, order='F')), axis=1)\n",
    "        if i == 0:\n",
    "            frame = temp\n",
    "        else:\n",
    "            frame = np.concatenate((frame, temp), axis=0)\n",
    "        \n",
    "    #resizing frame\n",
    "    scale = 200\n",
    "    width = int(frame.shape[1] * scale/100)\n",
    "    height = int(frame.shape[0] * scale/100)\n",
    "    dim = (width, height)\n",
    "    frame = cv2.resize(frame, dim, interpolation=cv2.INTER_AREA)\n",
    "    \n",
    "    #displaying frame\n",
    "    cv2.imshow('frame', frame)\n",
    "    cv2.waitKey(0)\n",
    "    cv2.destroyAllWindows()\n",
    "    \n",
    "displayData(rand_examples)"
   ]
  },
  {
   "cell_type": "markdown",
   "id": "be36515a",
   "metadata": {},
   "source": [
    "## Loading parameters"
   ]
  },
  {
   "cell_type": "code",
   "execution_count": 4,
   "id": "02bb5c61",
   "metadata": {},
   "outputs": [
    {
     "name": "stdout",
     "output_type": "stream",
     "text": [
      "shape of theta1 (25, 401)\n",
      "shape of theta2 (10, 26)\n"
     ]
    }
   ],
   "source": [
    "#loading trained parameters\n",
    "params = loadmat('ex4weights.mat')\n",
    "theta1 = np.array(params['Theta1']) # 25 by 401\n",
    "theta2 = np.array(params['Theta2']) # 10 by 26\n",
    "\n",
    "#unrolling parameters\n",
    "unroll_params = np.concatenate((theta1.reshape(-1,1), theta2.reshape(-1,1)), axis=0)  \n",
    "\n",
    "print('shape of theta1', theta1.shape)\n",
    "print('shape of theta2', theta2.shape)"
   ]
  },
  {
   "cell_type": "markdown",
   "id": "960d0a86",
   "metadata": {},
   "source": [
    "## Compute Cost"
   ]
  },
  {
   "cell_type": "code",
   "execution_count": 5,
   "id": "b459c8c3",
   "metadata": {},
   "outputs": [],
   "source": [
    "#sigmoid function\n",
    "def sigmoid(z):\n",
    "    return 1/(1+np.exp(-z))\n",
    "\n",
    "#sigmoid gradient\n",
    "def sigmoid_grad(z):\n",
    "    return sigmoid(z) * (1 - sigmoid(z))"
   ]
  },
  {
   "cell_type": "code",
   "execution_count": 6,
   "id": "c4b0392c",
   "metadata": {},
   "outputs": [
    {
     "name": "stdout",
     "output_type": "stream",
     "text": [
      "0.5760512469501331\n"
     ]
    },
    {
     "data": {
      "text/plain": [
       "array([[ 6.18712766e-05],\n",
       "       [-6.33744979e-12],\n",
       "       [ 1.31648811e-12],\n",
       "       ...,\n",
       "       [-5.20670005e-05],\n",
       "       [ 1.03178624e-05],\n",
       "       [-2.31823790e-05]])"
      ]
     },
     "execution_count": 6,
     "metadata": {},
     "output_type": "execute_result"
    }
   ],
   "source": [
    "def costFunction(unroll_params, input_layer_size, hidden_layer_size, num_labels, X, y, _lambda):\n",
    "    #reshaping unrolled parametrs \n",
    "    theta1 = unroll_params[0:hidden_layer_size*(input_layer_size+1)].reshape(hidden_layer_size,(input_layer_size+1))\n",
    "    theta2 = unroll_params[hidden_layer_size*(input_layer_size+1):].reshape(num_labels,(hidden_layer_size+1))\n",
    "    \n",
    "    #no of examples \n",
    "    m = X.shape[0]\n",
    "    \n",
    "    J = None\n",
    "    theta1_grad = None\n",
    "    theta2_grad = None\n",
    "    \n",
    "    temp = np.arange(1,num_labels+1)\n",
    "    y_vec = (y == temp).astype(int)\n",
    "    \n",
    "    a1 = np.insert(X, 0, np.ones(X.shape[0]), axis=1)\n",
    "    z2 = a1 @ theta1.T\n",
    "    a2 = sigmoid(z2)\n",
    "    a2 = np.insert(a2, 0, np.ones(a2.shape[0]), axis=1)\n",
    "    z3 = a2 @ theta2.T\n",
    "    a3 = sigmoid(z3)\n",
    "    y_hat = a3\n",
    "    \n",
    "    J = -1/m * np.sum(y_vec * np.log(y_hat) + (1-y_vec) * np.log(1-y_hat))\n",
    "    J += (_lambda/(2*m)) * (np.sum(np.square(theta1[:,1:])) + np.sum(np.square(theta2[:,1:])))\n",
    "    \n",
    "    lambda3 = a3 - y_vec\n",
    "    z2 = np.hstack((np.ones((z2.shape[0],1)), z2))\n",
    "    lambda2 = theta2.T @ lambda3.T * sigmoid_grad(z2).T\n",
    "    \n",
    "    theta1_grad = lambda2[1:,:] @ a1\n",
    "    theta2_grad = lambda3.T @ a2\n",
    "    \n",
    "    temp = np.zeros_like(theta1)\n",
    "    temp[:,1:] += theta1[:,1:]\n",
    "    d1 = 1/m * (theta1_grad + _lambda * temp)\n",
    "    temp = np.zeros_like(theta2)\n",
    "    temp[:,1:] += theta2[:,1:]\n",
    "    d2 = 1/m * (theta2_grad + _lambda * temp)\n",
    "    \n",
    "    unroll_theta_grad = np.concatenate((d1.reshape(-1,1), d2.reshape(-1,1)), axis=0)\n",
    "    \n",
    "    return J, unroll_theta_grad\n",
    "    \n",
    "    \n",
    "cost, grad = costFunction(unroll_params, input_layer_size, hidden_layer_size, num_labels, X, y, _lambda=3)\n",
    "print(cost)\n",
    "grad"
   ]
  },
  {
   "cell_type": "markdown",
   "id": "a8a0138e",
   "metadata": {},
   "source": [
    "## Gradient Check"
   ]
  },
  {
   "cell_type": "code",
   "execution_count": 7,
   "id": "84ee4691",
   "metadata": {},
   "outputs": [
    {
     "name": "stdout",
     "output_type": "stream",
     "text": [
      "right\n",
      "1.098566784805451e-08\n",
      "right\n",
      "1.1200886235755243e-08\n"
     ]
    }
   ],
   "source": [
    "def initializeWeights(out, _in):\n",
    "    w = np.zeros((out, _in + 1))\n",
    "    return np.reshape(np.sin(np.arange(1,np.size(w)+1)), w.shape) / 10\n",
    "\n",
    "def checkGradient(_lambda=0):\n",
    "    input_layer_size = 3\n",
    "    hidden_layer_size = 5\n",
    "    num_labels = 3\n",
    "    m = 5\n",
    "    epsilon = 1e-7\n",
    "    \n",
    "    #generating some random data    \n",
    "    theta1 = initializeWeights(hidden_layer_size, input_layer_size)\n",
    "    theta2 = initializeWeights(num_labels, hidden_layer_size)\n",
    "    X = initializeWeights(m, input_layer_size-1)\n",
    "    y = np.reshape(np.mod(np.arange(1,m+1), num_labels) + 1, (m,1))\n",
    "\n",
    "    unroll_params = np.concatenate((theta1.reshape(-1,1), theta2.reshape(-1,1)), axis=0)\n",
    "    \n",
    "    grad_approx = np.zeros_like(unroll_params)\n",
    "    \n",
    "    for i in range(unroll_params.shape[0]):\n",
    "        theta_plus = np.copy(unroll_params)\n",
    "        theta_plus[i] += epsilon\n",
    "        theta_minus = np.copy(unroll_params)\n",
    "        theta_minus[i] -= epsilon\n",
    "        J_plus, _ = costFunction(theta_plus, input_layer_size, hidden_layer_size, num_labels, X, y, _lambda)\n",
    "        J_minus, _ = costFunction(theta_minus, input_layer_size, hidden_layer_size, num_labels, X, y, _lambda)\n",
    "        grad_approx[i] = (J_plus - J_minus)/(2*epsilon)\n",
    "        \n",
    "    _, grad = costFunction(unroll_params, input_layer_size, hidden_layer_size, num_labels, X, y, _lambda)\n",
    "    \n",
    "    numerator = np.linalg.norm(grad_approx - grad)\n",
    "    denominator = np.linalg.norm(grad_approx) + np.linalg.norm(grad)\n",
    "    diff = numerator/denominator\n",
    "    \n",
    "    if diff > 1e-7:\n",
    "        print('wrong')\n",
    "    else:\n",
    "        print('right')\n",
    "        \n",
    "    return diff, grad_approx, grad\n",
    "\n",
    "diff, grad_approx, grad = checkGradient()\n",
    "print(diff)\n",
    "diff, grad_approx, grad = checkGradient(3)\n",
    "print(diff)"
   ]
  },
  {
   "cell_type": "markdown",
   "id": "6a0a422c",
   "metadata": {},
   "source": [
    "## Training neural network"
   ]
  },
  {
   "cell_type": "code",
   "execution_count": 27,
   "id": "7af2c7c0",
   "metadata": {},
   "outputs": [
    {
     "name": "stdout",
     "output_type": "stream",
     "text": [
      "(25, 401) (10, 26)\n",
      "(25, 401) (10, 26)\n"
     ]
    }
   ],
   "source": [
    "#initialize parameters\n",
    "def randomInitializeWeights(l_in, l_out):\n",
    "    w = np.zeros((l_out, l_in+1))\n",
    "    epsilon_init = np.sqrt(6) / np.sqrt(l_in + l_out)\n",
    "    return np.random.rand(l_out, l_in+1) * 2 * epsilon_init - epsilon_init\n",
    "    \n",
    "initial_theta1 = randomInitializeWeights(input_layer_size, hidden_layer_size)\n",
    "initial_theta2 = randomInitializeWeights(hidden_layer_size, num_labels)\n",
    "print(initial_theta1.shape, initial_theta2.shape)\n",
    "\n",
    "#optimization\n",
    "iterations = 4000\n",
    "alpha = 0.01\n",
    "_lambda = 1\n",
    "unroll_params = np.concatenate((initial_theta1.reshape(-1,1), initial_theta2.reshape(-1,1)), axis=0)\n",
    "\n",
    "for i in range(iterations):\n",
    "    _, grad = costFunction(unroll_params, input_layer_size, hidden_layer_size, num_labels, X, y, _lambda)\n",
    "    unroll_params -= alpha * grad\n",
    "    \n",
    "theta1 = unroll_params[0:hidden_layer_size*(input_layer_size+1)].reshape(hidden_layer_size,(input_layer_size+1))\n",
    "theta2 = unroll_params[hidden_layer_size*(input_layer_size+1):].reshape(num_labels,(hidden_layer_size+1))\n",
    "print(theta1.shape, theta2.shape)"
   ]
  },
  {
   "cell_type": "markdown",
   "id": "4ab81ac0",
   "metadata": {},
   "source": [
    "## Prediction"
   ]
  },
  {
   "cell_type": "code",
   "execution_count": 28,
   "id": "451fc2ac",
   "metadata": {},
   "outputs": [
    {
     "name": "stdout",
     "output_type": "stream",
     "text": [
      "[[10]\n",
      " [10]\n",
      " [10]\n",
      " ...\n",
      " [ 4]\n",
      " [ 4]\n",
      " [10]]\n",
      "model accuracy 81.28\n"
     ]
    }
   ],
   "source": [
    "def predict(theta1, theta2, X):\n",
    "    a1 = np.insert(X, 0, np.ones(X.shape[0]), axis=1)\n",
    "    a2 = sigmoid(a1 @ theta1.T)\n",
    "    a2 = np.insert(a2, 0, np.ones(a2.shape[0]), axis=1)\n",
    "    a3 = sigmoid(a2 @ theta2.T)\n",
    "    p = np.argmax(a3, 1).reshape(X.shape[0], 1)\n",
    "    return p + 1\n",
    "    \n",
    "pred = predict(theta1, theta2, X)\n",
    "print(pred)\n",
    "print('model accuracy', (np.sum(pred == y) / pred.shape[0]) * 100)"
   ]
  }
 ],
 "metadata": {
  "kernelspec": {
   "display_name": "Python 3",
   "language": "python",
   "name": "python3"
  },
  "language_info": {
   "codemirror_mode": {
    "name": "ipython",
    "version": 3
   },
   "file_extension": ".py",
   "mimetype": "text/x-python",
   "name": "python",
   "nbconvert_exporter": "python",
   "pygments_lexer": "ipython3",
   "version": "3.8.8"
  }
 },
 "nbformat": 4,
 "nbformat_minor": 5
}
